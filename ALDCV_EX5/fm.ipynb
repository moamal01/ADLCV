{
 "cells": [
  {
   "cell_type": "code",
   "execution_count": 1,
   "metadata": {},
   "outputs": [],
   "source": [
    "import torch"
   ]
  },
  {
   "cell_type": "code",
   "execution_count": 2,
   "metadata": {},
   "outputs": [],
   "source": [
    "def calculate_mids(distances):\n",
    "    mids = torch.zeros((distances.shape[0]-1), device=distances.device)\n",
    "    for i in range(len(distances) - 1):\n",
    "        mids[i] = (distances[i] + distances[i + 1]) / 2\n",
    "\n",
    "    return mids"
   ]
  },
  {
   "cell_type": "code",
   "execution_count": 15,
   "metadata": {},
   "outputs": [],
   "source": [
    "distances = torch.tensor([1.0, 2.0, 3.0, 4.0, 5.0])\n",
    "mids = calculate_mids(distances)\n",
    "far = torch.concat([mids, distances[-1].unsqueeze(0)], dim=-1)\n",
    "near = torch.concat([distances[0].unsqueeze(0), mids], dim=-1)"
   ]
  },
  {
   "cell_type": "code",
   "execution_count": 16,
   "metadata": {},
   "outputs": [
    {
     "name": "stdout",
     "output_type": "stream",
     "text": [
      "mids  tensor([1.5000, 2.5000, 3.5000, 4.5000])\n",
      "far   tensor([1.5000, 2.5000, 3.5000, 4.5000, 5.0000])\n",
      "near  tensor([2.0000, 1.5000, 2.5000, 3.5000, 4.5000])\n"
     ]
    }
   ],
   "source": [
    "print('mids ', mids)\n",
    "print('far  ', far)\n",
    "print('near ', near)"
   ]
  }
 ],
 "metadata": {
  "kernelspec": {
   "display_name": "ADLCV",
   "language": "python",
   "name": "python3"
  },
  "language_info": {
   "codemirror_mode": {
    "name": "ipython",
    "version": 3
   },
   "file_extension": ".py",
   "mimetype": "text/x-python",
   "name": "python",
   "nbconvert_exporter": "python",
   "pygments_lexer": "ipython3",
   "version": "3.9.18"
  }
 },
 "nbformat": 4,
 "nbformat_minor": 2
}
